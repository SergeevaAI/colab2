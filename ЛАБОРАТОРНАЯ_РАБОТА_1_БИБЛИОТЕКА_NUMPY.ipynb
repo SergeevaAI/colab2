{
  "nbformat": 4,
  "nbformat_minor": 0,
  "metadata": {
    "colab": {
      "name": "ЛАБОРАТОРНАЯ РАБОТА 1. БИБЛИОТЕКА NUMPY.ipynb",
      "provenance": [],
      "authorship_tag": "ABX9TyM5HdNmiL/+qbE9lH8ogZCu",
      "include_colab_link": true
    },
    "kernelspec": {
      "name": "python3",
      "display_name": "Python 3"
    },
    "language_info": {
      "name": "python"
    }
  },
  "cells": [
    {
      "cell_type": "markdown",
      "metadata": {
        "id": "view-in-github",
        "colab_type": "text"
      },
      "source": [
        "<a href=\"https://colab.research.google.com/github/SergeevaAI/colab2/blob/main/%D0%9B%D0%90%D0%91%D0%9E%D0%A0%D0%90%D0%A2%D0%9E%D0%A0%D0%9D%D0%90%D0%AF_%D0%A0%D0%90%D0%91%D0%9E%D0%A2%D0%90_1_%D0%91%D0%98%D0%91%D0%9B%D0%98%D0%9E%D0%A2%D0%95%D0%9A%D0%90_NUMPY.ipynb\" target=\"_parent\"><img src=\"https://colab.research.google.com/assets/colab-badge.svg\" alt=\"Open In Colab\"/></a>"
      ]
    },
    {
      "cell_type": "code",
      "source": [
        "import numpy as np"
      ],
      "metadata": {
        "id": "jTjILb72J3H6"
      },
      "execution_count": 1,
      "outputs": []
    },
    {
      "cell_type": "markdown",
      "source": [
        "1.1. Считайте число n. Создайте в переменной Z Numpy вектор из нулей длины n.\n",
        "Примечание. В этой задаче не нужно ничего выводить на печать. Только создать вектор Z"
      ],
      "metadata": {
        "id": "CQtQUlpHKJHq"
      }
    },
    {
      "cell_type": "code",
      "execution_count": 21,
      "metadata": {
        "colab": {
          "base_uri": "https://localhost:8080/"
        },
        "id": "FzcXcf_zH0DD",
        "outputId": "be94c68e-8db3-4df1-b9fe-2b3a7d0415c6"
      },
      "outputs": [
        {
          "output_type": "stream",
          "name": "stdout",
          "text": [
            "5\n",
            "[[ 77. ]\n",
            " [189.5]]\n"
          ]
        }
      ],
      "source": [
        "n=int(input())\n",
        "Z = np.zeros(n)\n",
        "print(Z)"
      ]
    },
    {
      "cell_type": "markdown",
      "source": [
        "1.2. Посчитайте размер матрицы Z в байтах и выведите его на печать. Чтобы узнать\n",
        "размер (в байтах) 1 элемента матрицы используйте\n",
        "атрибут https://docs.scipy.org/doc/numpy1.15.1/reference/generated/numpy.ndarray.itemsize.html\n",
        "Примечание. В этой задаче не нужно ничего считывать - матрица Z уже заполнена.\n"
      ],
      "metadata": {
        "id": "WqjihMZrKKyB"
      }
    },
    {
      "cell_type": "code",
      "source": [
        "Z=np.zeros((10,10))\n",
        "print(Z.itemsize*Z.size)"
      ],
      "metadata": {
        "id": "awTlJ02AKFTB",
        "colab": {
          "base_uri": "https://localhost:8080/"
        },
        "outputId": "553c7212-1f15-4e16-caf0-0f59574bd962"
      },
      "execution_count": 36,
      "outputs": [
        {
          "output_type": "stream",
          "name": "stdout",
          "text": [
            "800\n"
          ]
        }
      ]
    },
    {
      "cell_type": "markdown",
      "source": [
        "1.3. Считайте 2 числа:\n",
        "\n",
        "n - размер Numpy вектора\n",
        "\n",
        "x - координата элемента вектора, который должен быть равен 1. \n",
        "\n",
        "Остальные элементы вектора должны быть равны 0. Сохраните вектор в переменную Z.\n",
        "\n",
        "Примечание. В этой задаче не нужно ничего выводить на печать. Только создать вектор Z.\n"
      ],
      "metadata": {
        "id": "4C3BJCqSRjHk"
      }
    },
    {
      "cell_type": "code",
      "source": [
        "n=int(input())\n",
        "x=int(input())\n",
        "z = np.zeros(n)\n",
        "z[x]=1\n",
        "print(z)"
      ],
      "metadata": {
        "colab": {
          "base_uri": "https://localhost:8080/"
        },
        "id": "CJlyJh3fRmd3",
        "outputId": "98be81d1-52d2-4963-deaf-b30777aad78f"
      },
      "execution_count": 25,
      "outputs": [
        {
          "output_type": "stream",
          "name": "stdout",
          "text": [
            "10\n",
            "4\n",
            "[0. 0. 0. 0. 1. 0. 0. 0. 0. 0.]\n"
          ]
        }
      ]
    },
    {
      "cell_type": "markdown",
      "source": [
        "1.4. Считайте 2 числа n, m. Создайте вектор Z состоящий из чисел от n до m с шагом 1.\n",
        "Примечание. В этой задаче не нужно ничего выводить на печать. Только создать вектор Z."
      ],
      "metadata": {
        "id": "ORN_JBl9UEbl"
      }
    },
    {
      "cell_type": "code",
      "source": [
        "n=int(input())\n",
        "m=int(input())\n",
        "z=np.arange(n, m+1, 1)\n",
        "print(z)"
      ],
      "metadata": {
        "colab": {
          "base_uri": "https://localhost:8080/"
        },
        "id": "k-4J8T17UIFe",
        "outputId": "31130cbb-b5b8-42f1-8cb1-844790e1104b"
      },
      "execution_count": 27,
      "outputs": [
        {
          "output_type": "stream",
          "name": "stdout",
          "text": [
            "10\n",
            "50\n",
            "[10 11 12 13 14 15 16 17 18 19 20 21 22 23 24 25 26 27 28 29 30 31 32 33\n",
            " 34 35 36 37 38 39 40 41 42 43 44 45 46 47 48 49 50]\n"
          ]
        }
      ]
    },
    {
      "cell_type": "markdown",
      "source": [
        "1.5. Дан вектор Z. \"Разверните\" его.\n",
        "Примечание. В этой задаче не нужно ничего выводить на печать или считывать. Только\n",
        "развернуть уже созданный вектор Z."
      ],
      "metadata": {
        "id": "tuRqpbwAVVLt"
      }
    },
    {
      "cell_type": "code",
      "source": [
        "z = np.array([1, 2, 3, 4])\n",
        "z = z[::-1]\n",
        "print(z)"
      ],
      "metadata": {
        "id": "-fIqHPQ3VYG-",
        "colab": {
          "base_uri": "https://localhost:8080/"
        },
        "outputId": "5566798b-423e-42dd-d793-67eeff2bbb7c"
      },
      "execution_count": 29,
      "outputs": [
        {
          "output_type": "stream",
          "name": "stdout",
          "text": [
            "[4 3 2 1]\n"
          ]
        }
      ]
    },
    {
      "cell_type": "markdown",
      "source": [
        "1.6. Считайте 3 числа:\n",
        "\n",
        " n - количество элементов матрицы\n",
        "\n",
        " m и k - размеры матрицы (число строк и столбцов соответственно)\n",
        "\n",
        "Заполните матрицу Z числами от 0 до n-1 по порядку (сперва строки, потом столбцы).\n",
        "Гарантируется, что m*k = n, т.е. все элементы \"влезут\" в матрицу и не останется\n",
        "пустых мест.\n",
        "Примечание. В этой задаче не нужно ничего выводить на печать. Только создать матрицу Z.\n"
      ],
      "metadata": {
        "id": "byInNyR0WZZE"
      }
    },
    {
      "cell_type": "code",
      "source": [
        "n=int(input())\n",
        "m=int(input())\n",
        "k=int(input())\n",
        "z=np.arange(n).reshape(m,k)\n",
        "print(z)"
      ],
      "metadata": {
        "colab": {
          "base_uri": "https://localhost:8080/"
        },
        "id": "lX39JIOHWkG9",
        "outputId": "1a2022d1-4604-488a-9346-ea1c6695cf58"
      },
      "execution_count": 39,
      "outputs": [
        {
          "output_type": "stream",
          "name": "stdout",
          "text": [
            "6\n",
            "2\n",
            "3\n",
            "[[0 1 2]\n",
            " [3 4 5]]\n"
          ]
        }
      ]
    },
    {
      "cell_type": "markdown",
      "source": [
        "1.7. Дан вектор Z. Запишите в переменную NonZerros индексы ненулевых элементов.\n",
        "Используйте\n",
        "функцию https://docs.scipy.org/doc/numpy1.15.0/reference/generated/numpy.nonzero.html\n",
        "Примечание. В этой задаче не нужно ничего считывать или выводить на печать. Матрица Z\n",
        "уже готова, просто создайте NonZerros.\n"
      ],
      "metadata": {
        "id": "05qidurBZAOV"
      }
    },
    {
      "cell_type": "code",
      "source": [
        "z=np.array(list(map(int, input().split()))) \n",
        "NonZerros=np.nonzero(z)\n",
        "print(NonZerros)"
      ],
      "metadata": {
        "id": "OHlY1R-gZEeC",
        "colab": {
          "base_uri": "https://localhost:8080/"
        },
        "outputId": "14aa5829-2f7d-4a0e-a1ad-52ba6a9928e4"
      },
      "execution_count": null,
      "outputs": [
        {
          "output_type": "stream",
          "name": "stdout",
          "text": [
            "1 0 2 0 3 0 4\n",
            "(array([0, 2, 4, 6]),)\n"
          ]
        }
      ]
    },
    {
      "cell_type": "markdown",
      "source": [
        "1.8. Считайте число n. Создайте единичную матрицу размера n, сохраните результат в\n",
        "переменную Z."
      ],
      "metadata": {
        "id": "s7sPABZeyx7_"
      }
    },
    {
      "cell_type": "code",
      "source": [
        "n=int(input())\n",
        "z= np.ones(n)\n",
        "print(z)"
      ],
      "metadata": {
        "colab": {
          "base_uri": "https://localhost:8080/"
        },
        "id": "JlUFMjtazJ-s",
        "outputId": "ba3ef1ec-cc30-426f-9d34-6917b140b4c8"
      },
      "execution_count": null,
      "outputs": [
        {
          "output_type": "stream",
          "name": "stdout",
          "text": [
            "3\n",
            "[1. 1. 1.]\n"
          ]
        }
      ]
    },
    {
      "cell_type": "markdown",
      "source": [
        "1.9 Считайте 3 числа: n, m, l.. Зафиксируйте значение генератора случайных чисел Numpy\n",
        "с помощью numpy.random.seed(42) . Создайте матрицу n*m*l из случайных чисел (от 0 до 1) и\n",
        "сохраните результат в переменную Z.\n"
      ],
      "metadata": {
        "id": "TybPwu6RzvTB"
      }
    },
    {
      "cell_type": "code",
      "source": [
        "n=int(input())\n",
        "m=int(input())\n",
        "l=int(input())\n",
        "np.random.seed(42)\n",
        "z=np.random.random((n,m,l))\n",
        "print(z)"
      ],
      "metadata": {
        "colab": {
          "base_uri": "https://localhost:8080/"
        },
        "id": "YO43QkzXzyA_",
        "outputId": "4f70088e-1ce7-4430-9bed-0ed6f356d6fa"
      },
      "execution_count": null,
      "outputs": [
        {
          "output_type": "stream",
          "name": "stdout",
          "text": [
            "2\n",
            "2\n",
            "2\n",
            "[[[0.37454012 0.95071431]\n",
            "  [0.73199394 0.59865848]]\n",
            "\n",
            " [[0.15601864 0.15599452]\n",
            "  [0.05808361 0.86617615]]]\n"
          ]
        }
      ]
    },
    {
      "cell_type": "markdown",
      "source": [
        "1.10. Считайте 2 числа: n, m. Зафиксируйте значение генератора случайных чисел Numpy с\n",
        "помощью numpy.random.seed(42). Создайте матрицу n*m из случайных чисел (от 0 до 1). Выведите на печать значение минимального и максимального чисел в получившейся\n",
        "матрице (каждое с новой строки)."
      ],
      "metadata": {
        "id": "kSvAYJRqCHsa"
      }
    },
    {
      "cell_type": "code",
      "source": [
        "n=int(input())\n",
        "m=int(input())\n",
        "np.random.seed(42)\n",
        "z=np.random.random((n,m))\n",
        "print(z.min())\n",
        "print(z.max())"
      ],
      "metadata": {
        "colab": {
          "base_uri": "https://localhost:8080/"
        },
        "id": "JuhLhrFbCNN9",
        "outputId": "2fdcb886-15e8-4287-a55f-371ed7a320c9"
      },
      "execution_count": null,
      "outputs": [
        {
          "output_type": "stream",
          "name": "stdout",
          "text": [
            "10\n",
            "10\n",
            "0.005522117123602399\n",
            "0.9868869366005173\n"
          ]
        }
      ]
    },
    {
      "cell_type": "markdown",
      "source": [
        "1.11. Считайте 2 числа: n, m. Зафиксируйте значение генератора случайных чисел Numpy с\n",
        "помощью numpy.random.seed(42).Создайте матрицу n*m из случайных чисел (от 0 до 1).\n",
        "Выведите на печать значение среднего для всей матрицы.\n"
      ],
      "metadata": {
        "id": "lRbUpUwdC_zm"
      }
    },
    {
      "cell_type": "code",
      "source": [
        "n=int(input())\n",
        "m=int(input())\n",
        "np.random.seed(42)\n",
        "z=np.random.random((n,m))\n",
        "print(z.mean())"
      ],
      "metadata": {
        "colab": {
          "base_uri": "https://localhost:8080/"
        },
        "id": "ouUjz5MsDAqz",
        "outputId": "3fa60a31-314f-4139-be4f-100b3690f3de"
      },
      "execution_count": null,
      "outputs": [
        {
          "output_type": "stream",
          "name": "stdout",
          "text": [
            "30\n",
            "30\n",
            "0.4923750160905882\n"
          ]
        }
      ]
    },
    {
      "cell_type": "markdown",
      "source": [
        "1.12. Переменные A и B содержат по numpy вектору. Найдите их скалярное произведение и\n",
        "сохраните в переменную Z.\n",
        "A и B могут содержать как int, так и float.\n"
      ],
      "metadata": {
        "id": "-23PQf7zDvHh"
      }
    },
    {
      "cell_type": "code",
      "source": [
        "A=np.array(list(map(float, input().split()))) \n",
        "B=np.array(list(map(float, input().split()))) \n",
        "z= np.dot(A, B)\n",
        "print(z)"
      ],
      "metadata": {
        "colab": {
          "base_uri": "https://localhost:8080/"
        },
        "id": "JSOhOEqDDwM2",
        "outputId": "393401bc-0a54-4d06-96ee-cc1177143fc9"
      },
      "execution_count": null,
      "outputs": [
        {
          "output_type": "stream",
          "name": "stdout",
          "text": [
            "1.5 2.5 3.5\n",
            "4 5 6\n",
            "39.5\n"
          ]
        }
      ]
    },
    {
      "cell_type": "markdown",
      "source": [
        "1.13. Даны 2 матрицы: A и B. Найдите произведение матриц и сохраните его в переменную Z.\n",
        "Если найти произведение матриц невозможно, то запишите в Z строку:\n",
        "Упс! Что-то пошло не так..."
      ],
      "metadata": {
        "id": "H1yhRNcQVtRv"
      }
    },
    {
      "cell_type": "code",
      "source": [
        "A=np.array([\n",
        " [1, 2, 3],\n",
        " [4, 5, 6]\n",
        "])\n",
        "B= np.array([\n",
        " [11.5],\n",
        " [12.5],\n",
        " [13.5]\n",
        "])\n",
        "try:\n",
        "  z=np.dot(A, B)\n",
        "  print(z)\n",
        "except:\n",
        "  print(\"Упс! Что-то пошло не так...\")"
      ],
      "metadata": {
        "id": "KRxVoY5uVz7d",
        "colab": {
          "base_uri": "https://localhost:8080/"
        },
        "outputId": "3400887a-c80a-4f2f-a47f-08942181e1a0"
      },
      "execution_count": 11,
      "outputs": [
        {
          "output_type": "stream",
          "name": "stdout",
          "text": [
            "[[ 77. ]\n",
            " [189.5]]\n"
          ]
        }
      ]
    },
    {
      "cell_type": "code",
      "source": [
        "A=np.array([\n",
        " [1, 2, 3],\n",
        " [4, 5, 6]\n",
        "])\n",
        "B= np.array([\n",
        " [11.5, 12.5, 13.5]\n",
        "])\n",
        "try:\n",
        "  z=np.dot(A, B)\n",
        "  print(z)\n",
        "except:\n",
        "  print(\"Упс! Что-то пошло не так...\")"
      ],
      "metadata": {
        "colab": {
          "base_uri": "https://localhost:8080/"
        },
        "id": "7Mulg8QSWK0X",
        "outputId": "671f224c-cecd-4d7c-c290-e73a95c62387"
      },
      "execution_count": 12,
      "outputs": [
        {
          "output_type": "stream",
          "name": "stdout",
          "text": [
            "Упс! Что-то пошло не так...\n"
          ]
        }
      ]
    },
    {
      "cell_type": "markdown",
      "source": [
        "1.14. Поменяйте знак всех чисел из интервала (3; 9), хранящихся в векторе Z."
      ],
      "metadata": {
        "id": "-aX-0QdxYt9k"
      }
    },
    {
      "cell_type": "code",
      "source": [
        "Z = np.arange(11)\n",
        "Z[(3 < Z) & (Z <= 8)] *= -1\n",
        "print(Z)"
      ],
      "metadata": {
        "colab": {
          "base_uri": "https://localhost:8080/"
        },
        "id": "mDxmSKCqY-h0",
        "outputId": "bc66fd85-641b-4b25-bf71-f737898d98ce"
      },
      "execution_count": 15,
      "outputs": [
        {
          "output_type": "stream",
          "name": "stdout",
          "text": [
            "[ 0  1  2  3 -4 -5 -6 -7 -8  9 10]\n"
          ]
        }
      ]
    },
    {
      "cell_type": "code",
      "source": [
        "Z = np.array([-10, -5, 0, 5, 10])\n",
        "Z[(3 < Z) & (Z <= 8)] *= -1\n",
        "print(Z)"
      ],
      "metadata": {
        "colab": {
          "base_uri": "https://localhost:8080/"
        },
        "id": "zNow23tyhOIM",
        "outputId": "bc1ae2a0-5005-42ce-f476-9c73f1eeaea1"
      },
      "execution_count": 16,
      "outputs": [
        {
          "output_type": "stream",
          "name": "stdout",
          "text": [
            "[-10  -5   0  -5  10]\n"
          ]
        }
      ]
    },
    {
      "cell_type": "markdown",
      "source": [
        "1.15.Подсчитать произведение ненулевых элементов на диагонали прямоугольной\n",
        "матрицы. Для X = np.array([[1, 0, 1], [2, 0, 2], [3, 0, 3], [4, 4, 4]]) ответ 3."
      ],
      "metadata": {
        "id": "i7EaInVahTy2"
      }
    },
    {
      "cell_type": "code",
      "source": [
        "Z = np.diag(np.array([[1, 0, 1], [2, 0, 2], [3, 0, 3], [4, 4, 4]]), k=0)\n",
        "NonZerros=np.nonzero(Z)\n",
        "Z=Z[NonZerros]\n",
        "Z=Z.prod()\n",
        "print(Z)"
      ],
      "metadata": {
        "colab": {
          "base_uri": "https://localhost:8080/"
        },
        "id": "pAZFRx9OhWIM",
        "outputId": "6f5075cd-d992-4812-ef2e-bfcfffaabd2a"
      },
      "execution_count": 20,
      "outputs": [
        {
          "output_type": "stream",
          "name": "stdout",
          "text": [
            "3\n"
          ]
        }
      ]
    },
    {
      "cell_type": "markdown",
      "source": [
        "1.16. Считайте число n. Создайте в переменной Z Numpy вектор из нулей длины n."
      ],
      "metadata": {
        "id": "nDlAUPVi5M86"
      }
    },
    {
      "cell_type": "code",
      "source": [
        "n=int(input())\n",
        "Z = np.zeros(n)\n",
        "print(z)"
      ],
      "metadata": {
        "colab": {
          "base_uri": "https://localhost:8080/"
        },
        "id": "mp2Tuhcj5QiF",
        "outputId": "17ba4325-28d5-4117-83a3-89c46fee9368"
      },
      "execution_count": 22,
      "outputs": [
        {
          "output_type": "stream",
          "name": "stdout",
          "text": [
            "5\n",
            "[[ 77. ]\n",
            " [189.5]]\n"
          ]
        }
      ]
    },
    {
      "cell_type": "markdown",
      "source": [
        "1.17. Посчитайте размер матрицы Z в байтах и выведите его на печать. Чтобы узнать\n",
        "размер (в байтах) 1 элемента матрицы используйте\n",
        "атрибут https://docs.scipy.org/doc/numpy1.15.1/reference/generated/numpy.ndarray.itemsize.html"
      ],
      "metadata": {
        "id": "gUX8H0kI6Lm7"
      }
    },
    {
      "cell_type": "code",
      "source": [
        "Z=np.zeros((10,10))\n",
        "print(Z.nbytes)"
      ],
      "metadata": {
        "colab": {
          "base_uri": "https://localhost:8080/"
        },
        "id": "RxU2uXWf6Pay",
        "outputId": "8e6e57ed-fc39-4147-c200-e8f323ee0b9c"
      },
      "execution_count": 23,
      "outputs": [
        {
          "output_type": "stream",
          "name": "stdout",
          "text": [
            "800\n"
          ]
        }
      ]
    },
    {
      "cell_type": "code",
      "source": [
        "Z=np.array([1,2,3], dtype=np.float64)\n",
        "print(Z.nbytes)"
      ],
      "metadata": {
        "colab": {
          "base_uri": "https://localhost:8080/"
        },
        "id": "puruJo6387ag",
        "outputId": "c9e6cfb1-90dd-4c83-d1a0-afce3d88ca9d"
      },
      "execution_count": 24,
      "outputs": [
        {
          "output_type": "stream",
          "name": "stdout",
          "text": [
            "24\n"
          ]
        }
      ]
    },
    {
      "cell_type": "markdown",
      "source": [
        "1.18. Считайте 2 числа:\n",
        "\n",
        "n - размер Numpy вектора\n",
        "\n",
        "x - координата элемента вектора, который должен быть равен 1. Остальные элементы вектора\n",
        "\n",
        "должны быть равны 0. Сохраните вектор в переменную Z."
      ],
      "metadata": {
        "id": "5xjmQ7f39A7B"
      }
    },
    {
      "cell_type": "code",
      "source": [
        "n=int(input())\n",
        "x=int(input())\n",
        "z = np.zeros(n)\n",
        "z[x]=1\n",
        "print(z)"
      ],
      "metadata": {
        "colab": {
          "base_uri": "https://localhost:8080/"
        },
        "id": "0huQnR-t9GWf",
        "outputId": "a8c13951-7413-44ae-8b6b-5e5497a97cb0"
      },
      "execution_count": 26,
      "outputs": [
        {
          "output_type": "stream",
          "name": "stdout",
          "text": [
            "10\n",
            "4\n",
            "[0. 0. 0. 0. 1. 0. 0. 0. 0. 0.]\n"
          ]
        }
      ]
    },
    {
      "cell_type": "markdown",
      "source": [
        "1.19. Считайте 2 числа n, m. Создайте вектор Z состоящий из чисел от n до m с шагом 1.\n"
      ],
      "metadata": {
        "id": "9OB_hcAh-YQp"
      }
    },
    {
      "cell_type": "code",
      "source": [
        "n=int(input())\n",
        "m=int(input())\n",
        "z=np.arange(n, m+1, 1)\n",
        "print(z)"
      ],
      "metadata": {
        "colab": {
          "base_uri": "https://localhost:8080/"
        },
        "id": "XML2Tl8i-a7Z",
        "outputId": "4376d55c-d687-43bb-df48-00e321740e62"
      },
      "execution_count": 28,
      "outputs": [
        {
          "output_type": "stream",
          "name": "stdout",
          "text": [
            "10\n",
            "50\n",
            "[10 11 12 13 14 15 16 17 18 19 20 21 22 23 24 25 26 27 28 29 30 31 32 33\n",
            " 34 35 36 37 38 39 40 41 42 43 44 45 46 47 48 49 50]\n"
          ]
        }
      ]
    },
    {
      "cell_type": "markdown",
      "source": [
        "1.20. Дан вектор Z. \"Разверните\" его"
      ],
      "metadata": {
        "id": "zNe3WIBa-oYK"
      }
    },
    {
      "cell_type": "code",
      "source": [
        "z = np.array([1, 2, 3, 4])\n",
        "z = list(reversed(z))\n",
        "print(z)"
      ],
      "metadata": {
        "colab": {
          "base_uri": "https://localhost:8080/"
        },
        "id": "8NoisTtO_Vto",
        "outputId": "2d4d06de-9df1-45c4-ab9f-ce59c107cab8"
      },
      "execution_count": 31,
      "outputs": [
        {
          "output_type": "stream",
          "name": "stdout",
          "text": [
            "[4, 3, 2, 1]\n"
          ]
        }
      ]
    },
    {
      "cell_type": "markdown",
      "source": [
        "1.21. Считайте 3 числа:\n",
        "\n",
        " n - количество элементов матрицы\n",
        "\n",
        "m и k - размеры матрицы (число строк и столбцов соответственно)\n",
        "Заполните матрицу Z числами от 0 до n-1 по порядку (сперва строки, потом столбцы).\n",
        "\n",
        "Гарантируется, что m*k = n, т.е. все элементы \"влезут\" в матрицу и не останется\n",
        "пустых мест."
      ],
      "metadata": {
        "id": "cDTyMevpAosZ"
      }
    },
    {
      "cell_type": "code",
      "source": [
        "n=int(input())\n",
        "m=int(input())\n",
        "k=int(input())\n",
        "z=np.arange(n).reshape(m,k)\n",
        "print(z)"
      ],
      "metadata": {
        "colab": {
          "base_uri": "https://localhost:8080/"
        },
        "id": "OVoJbgwIA1-v",
        "outputId": "b2f156a6-e61b-4737-b3e2-62c069c22a4d"
      },
      "execution_count": 41,
      "outputs": [
        {
          "output_type": "stream",
          "name": "stdout",
          "text": [
            "9\n",
            "3\n",
            "3\n",
            "[[0 1 2]\n",
            " [3 4 5]\n",
            " [6 7 8]]\n"
          ]
        }
      ]
    },
    {
      "cell_type": "markdown",
      "source": [
        "1.22. Дан вектор Z. Запишите в переменную NonZerros индексы ненулевых элементов."
      ],
      "metadata": {
        "id": "S1WTndi7Irz4"
      }
    },
    {
      "cell_type": "code",
      "source": [
        "z=np.array([1, 2, 0, 0, 4, 0]) \n",
        "NonZerros=np.nonzero(z)\n",
        "print(NonZerros)"
      ],
      "metadata": {
        "colab": {
          "base_uri": "https://localhost:8080/"
        },
        "id": "L7KuDw0dI3Jr",
        "outputId": "d1389775-a5db-4641-dfe0-399eb0fa4e18"
      },
      "execution_count": 42,
      "outputs": [
        {
          "output_type": "stream",
          "name": "stdout",
          "text": [
            "(array([0, 1, 4]),)\n"
          ]
        }
      ]
    },
    {
      "cell_type": "markdown",
      "source": [
        "1.23. Считайте число n. Создайте единичную матрицу размера n, сохраните результат в\n",
        "переменную Z"
      ],
      "metadata": {
        "id": "wx0mKEqGRU0d"
      }
    },
    {
      "cell_type": "code",
      "source": [
        "n=int(input())\n",
        "z= np.ones(n)\n",
        "print(z)"
      ],
      "metadata": {
        "colab": {
          "base_uri": "https://localhost:8080/"
        },
        "id": "acLorJtJRqPs",
        "outputId": "2117cc4f-92c2-4f3e-c6dd-b4b8b96a3022"
      },
      "execution_count": 43,
      "outputs": [
        {
          "output_type": "stream",
          "name": "stdout",
          "text": [
            "3\n",
            "[1. 1. 1.]\n"
          ]
        }
      ]
    },
    {
      "cell_type": "markdown",
      "source": [
        "1.24. Считайте 3 числа: n, m, l.. Зафиксируйте значение генератора случайных чисел\n",
        "Numpy с помощью numpy.random.seed(42) . Создайте матрицу n*m*l из случайных чисел (от 0\n",
        "до 1) и сохраните результат в переменную Z."
      ],
      "metadata": {
        "id": "tAL-TgEURz5X"
      }
    },
    {
      "cell_type": "code",
      "source": [
        "n=int(input())\n",
        "m=int(input())\n",
        "l=int(input())\n",
        "np.random.seed(42)\n",
        "z=np.random.random((n,m,l))\n",
        "print(z)"
      ],
      "metadata": {
        "colab": {
          "base_uri": "https://localhost:8080/"
        },
        "id": "OGssAr3YR24Q",
        "outputId": "424903a7-6970-4cf3-ad04-2914a419cada"
      },
      "execution_count": 44,
      "outputs": [
        {
          "output_type": "stream",
          "name": "stdout",
          "text": [
            "2\n",
            "2\n",
            "2\n",
            "[[[0.37454012 0.95071431]\n",
            "  [0.73199394 0.59865848]]\n",
            "\n",
            " [[0.15601864 0.15599452]\n",
            "  [0.05808361 0.86617615]]]\n"
          ]
        }
      ]
    },
    {
      "cell_type": "markdown",
      "source": [
        "1.25. Считайте 2 числа: n, m. Зафиксируйте значение генератора случайных чисел Numpy с\n",
        "помощью numpy.random.seed(42). Создайте матрицу n*m из случайных чисел (от 0 до 1).\n",
        "Выведите на печать значение минимального и максимального чисел в получившейся\n",
        "матрице (каждое с новой строки).\n"
      ],
      "metadata": {
        "id": "oKF_5uLMT0T4"
      }
    },
    {
      "cell_type": "code",
      "source": [
        "n=int(input())\n",
        "m=int(input())\n",
        "np.random.seed(42)\n",
        "z=np.random.random((n,m))\n",
        "print(z.min())\n",
        "print(z.max())"
      ],
      "metadata": {
        "colab": {
          "base_uri": "https://localhost:8080/"
        },
        "id": "HYxqQ_2mT4Be",
        "outputId": "dfebfe41-b3d4-464e-d682-6a66aa4357e5"
      },
      "execution_count": 45,
      "outputs": [
        {
          "output_type": "stream",
          "name": "stdout",
          "text": [
            "2\n",
            "6\n",
            "0.020584494295802447\n",
            "0.9699098521619943\n"
          ]
        }
      ]
    }
  ]
}